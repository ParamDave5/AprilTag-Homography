{
 "cells": [
  {
   "cell_type": "code",
   "execution_count": 1,
   "id": "10c59f97",
   "metadata": {},
   "outputs": [],
   "source": [
    "import numpy as np\n",
    "import cv2\n",
    "import matplotlib.pyplot as plt\n"
   ]
  },
  {
   "cell_type": "code",
   "execution_count": null,
   "id": "b23b70e9",
   "metadata": {},
   "outputs": [],
   "source": [
    "\n",
    "#returns grayscale image from give path of image\n",
    "def grayimage(imagepath):\n",
    "    image = cv2imread('imagepath')\n",
    "    gray = cv2.cvtColor(image , cv2.COLOR_BGR2GRAY)\n",
    "    return gray\n",
    "\n",
    "\n",
    "#return thresholded image from grayscale image\n",
    "def threshold(grayimage):\n",
    "    ret,thresh = cv2.threshold(grayimage,220,255,cv2.THRESH_BINARY)\n",
    "    return thresh\n",
    "\n",
    "#returns corners and image with corners\n",
    "def corner(grayimage , colorimage):\n",
    "    image = colorimage.copy\n",
    "    dest = cv2.cornerHarris(grayimage, 2, 5, 0.07)\n",
    "    dest = cv2.dilate(dest, None)\n",
    "    image[dest > 0.01 * dest.max()]=[0, 0, 255]\n",
    "    return dest , image\n",
    "\n",
    "\n",
    "def decode(thresh_image):\n",
    "    ar = thresh_image.copy()\n",
    "    ar = cv2.resize(ar , (640,640),interpolation = cv2.INTER_AREA)\n",
    "    flag = True\n",
    "    while(flag):\n",
    "    if (final[200][420] != 0) or (final[200][200] != 0) or (final[430][200] != 0):\n",
    "        final = np.rot90(final)\n",
    "    else :\n",
    "        flag = False\n",
    "        break\n",
    "    break\n",
    "    str = ''\n",
    "    if (final[300][280] == 255):\n",
    "        str = str + '1'\n",
    "    else:\n",
    "        str = str + '0'\n",
    "    if (final[350][280]):\n",
    "        str = str + '1'\n",
    "    else:\n",
    "        str = str + '0'\n",
    "    if (final[300][350]):\n",
    "        str = str + '1'\n",
    "    else:\n",
    "        str = str + '0'\n",
    "    if (final[350][350]):\n",
    "        str = str + '1'\n",
    "    else:\n",
    "        str = str + '0'\n",
    "    \n",
    "    code = int(str,2)\n",
    "    return code\n",
    "    \n",
    "\n",
    "\n"
   ]
  },
  {
   "cell_type": "code",
   "execution_count": null,
   "id": "4025462a",
   "metadata": {},
   "outputs": [],
   "source": [
    "def grayimage(imagepath):\n",
    "    image = cv2imread('imagepath')\n",
    "    gray = cv2.cvtColor(image , cv2.COLOR_BGR2GRAY)\n",
    "    return gray\n",
    "\n",
    "\n",
    "#return thresholded image from grayscale image\n",
    "def threshold(grayimage):\n",
    "    ret,thresh = cv2.threshold(grayimage,220,255,cv2.THRESH_BINARY)\n",
    "    return thresh\n",
    "\n",
    "\n"
   ]
  },
  {
   "cell_type": "code",
   "execution_count": 17,
   "id": "2dd2e93e",
   "metadata": {},
   "outputs": [
    {
     "data": {
      "image/png": "[encoded data removed]",
      "text/plain": [
       "<Figure size 432x288 with 1 Axes>"
      ]
     },
     "metadata": {
      "needs_background": "light"
     },
     "output_type": "display_data"
    }
   ],
   "source": [
    "image = cv2.imread('marker.png')\n",
    "img = image.copy()\n",
    "gray = cv2.cvtColor(image , cv2.COLOR_BGR2GRAY)\n",
    "ret,thresh = cv2.threshold(gray,220,255,cv2.THRESH_BINARY)\n",
    "\n",
    "\n",
    "img = cv2.resize(img , (640,640),interpolation = cv2.INTER_AREA)\n",
    "start_x = 80\n",
    "start_y = 0\n",
    "end_x = 80\n",
    "end_y = 640\n",
    "\n",
    "startv_x = 0\n",
    "startv_y = 80\n",
    "endv_x = 640\n",
    "endv_y = 80\n",
    "for i in range(8):\n",
    "    cv2.line(img, (start_x, start_y), (end_x, end_y), (255, 0, 0), 3, 3)\n",
    "    start_x += 80\n",
    "    end_x += 80\n",
    "    \n",
    "    cv2.line(img , (startv_x , startv_y) , (endv_x , endv_y) , (255 , 0,0),3,3)\n",
    "    startv_y += 80\n",
    "    endv_y += 80\n",
    "plt.imshow(img)\n",
    "plt.show()"
   ]
  },
  {
   "cell_type": "code",
   "execution_count": 46,
   "id": "0775ec72",
   "metadata": {},
   "outputs": [
    {
     "name": "stdout",
     "output_type": "stream",
     "text": [
      "15\n"
     ]
    }
   ],
   "source": [
    "end1 = np.array(thresh[160:240,160:240])\n",
    "end2 = np.array(thresh[400:480,160:240])\n",
    "end3 = np.array(thresh[160:240,400:480])\n",
    "\n",
    "end1_median = int(np.median(end1))\n",
    "end2_median = int(np.median(end2))\n",
    "end3_median = int(np.median(end3))\n",
    "# print(end1_median , end2_median , end3_median)\n",
    "\n",
    "\n",
    "\n",
    "while (end1_median != 0) or (end2_median != 0 ) or (end3_median != 0):\n",
    "    thresh = np.rot90(thresh)\n",
    "    end1 = np.array(thresh[160:240,160:240])\n",
    "    end2 = np.array(thresh[400:480,160:240])\n",
    "    end3 = np.array(thresh[160:240,400:480])\n",
    "\n",
    "    end1_median = int(np.median(end1))\n",
    "    end2_median = int(np.median(end2))\n",
    "    end3_median = int(np.median(end3))\n",
    "    print(end1_median , end2_median , end3_median)\n",
    "    \n",
    "box1 = np.array(image[240:320 , 240:320])\n",
    "box2 = np.array(image[240:320 , 320:400])\n",
    "box3 = np.array(image[320:400 , 240:320])\n",
    "box4 = np.array(image[320:400 , 320:400])\n",
    "    \n",
    "box1_median = int(np.median(box1))\n",
    "box2_median = int(np.median(box2))\n",
    "box3_median = int(np.median(box3))\n",
    "box4_median = int(np.median(box4))\n",
    "                  \n",
    "# print(box1_median , box2_median , box3_median , box4_median)\n",
    "str = \"\"\n",
    "if box1_median == 255:\n",
    "    str = str + '1'\n",
    "elif box1_median == 1:\n",
    "    str = str + '1'\n",
    "else:\n",
    "    str = str + '0'\n",
    "\n",
    "    \n",
    "if box2_median == 255:\n",
    "    str = str + '1'\n",
    "elif box2_median == 1:\n",
    "    str = str + '1'\n",
    "else:\n",
    "    str = str + '0'\n",
    "    \n",
    "    \n",
    "if box3_median == 255:\n",
    "    str = str + '1'\n",
    "elif box3_median == 1:\n",
    "    str = str + '1'\n",
    "else:\n",
    "    str = str + '0'\n",
    "    \n",
    "    \n",
    "if box4_median == 255:\n",
    "    str = str + '1'\n",
    "elif box4_median == 1:\n",
    "    str = str + '1'\n",
    "else:\n",
    "    str = str + '0'\n",
    "\n",
    "code = int(str , 2)\n",
    "print(code)\n"
   ]
  },
  {
   "cell_type": "code",
   "execution_count": null,
   "id": "7cd68f80",
   "metadata": {},
   "outputs": [],
   "source": []
  },
  {
   "cell_type": "code",
   "execution_count": null,
   "id": "2243fd57",
   "metadata": {},
   "outputs": [],
   "source": []
  },
  {
   "cell_type": "code",
   "execution_count": null,
   "id": "d7eb4958",
   "metadata": {},
   "outputs": [],
   "source": []
  },
  {
   "cell_type": "code",
   "execution_count": null,
   "id": "d129229b",
   "metadata": {},
   "outputs": [],
   "source": []
  },
  {
   "cell_type": "code",
   "execution_count": null,
   "id": "4ffb65f1",
   "metadata": {},
   "outputs": [],
   "source": []
  },
  {
   "cell_type": "code",
   "execution_count": null,
   "id": "be8a5fcc",
   "metadata": {},
   "outputs": [],
   "source": []
  },
  {
   "cell_type": "code",
   "execution_count": null,
   "id": "799d4def",
   "metadata": {},
   "outputs": [],
   "source": []
  },
  {
   "cell_type": "code",
   "execution_count": null,
   "id": "0ae6434b",
   "metadata": {},
   "outputs": [],
   "source": []
  },
  {
   "cell_type": "code",
   "execution_count": null,
   "id": "907ab2b1",
   "metadata": {},
   "outputs": [],
   "source": []
  },
  {
   "cell_type": "code",
   "execution_count": null,
   "id": "ead800cc",
   "metadata": {},
   "outputs": [],
   "source": []
  },
  {
   "cell_type": "code",
   "execution_count": null,
   "id": "ebbfec17",
   "metadata": {},
   "outputs": [],
   "source": []
  },
  {
   "cell_type": "code",
   "execution_count": null,
   "id": "0cf76eb4",
   "metadata": {},
   "outputs": [],
   "source": []
  }
 ],
 "metadata": {
  "kernelspec": {
   "display_name": "Python 3 (ipykernel)",
   "language": "python",
   "name": "python3"
  },
  "language_info": {
   "codemirror_mode": {
    "name": "ipython",
    "version": 3
   },
   "file_extension": ".py",
   "mimetype": "text/x-python",
   "name": "python",
   "nbconvert_exporter": "python",
   "pygments_lexer": "ipython3",
   "version": "3.9.10"
  }
 },
 "nbformat": 4,
 "nbformat_minor": 5
}
